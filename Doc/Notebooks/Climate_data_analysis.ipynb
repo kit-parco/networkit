{
 "metadata": {
  "name": ""
 },
 "nbformat": 3,
 "nbformat_minor": 0,
 "worksheets": [
  {
   "cells": [
    {
     "cell_type": "raw",
     "metadata": {},
     "source": [
      "Go to your NetworKit directory and import NetworKit"
     ]
    },
    {
     "cell_type": "code",
     "collapsed": false,
     "input": [
      "# cd ...\n",
      "from NetworKit import *"
     ],
     "language": "python",
     "metadata": {},
     "outputs": [],
     "prompt_number": 1
    },
    {
     "cell_type": "raw",
     "metadata": {},
     "source": [
      "Read the climate graph with the new METIS graph reader. Don't forget to adapt the path to the graph file"
     ]
    },
    {
     "cell_type": "code",
     "collapsed": false,
     "input": [
      "#g = readGraph(\"/algoDaten/graphs/climate/climate.graph\") # parco/iti path\n",
      "g = readGraph(\"~/workspace/hiwi/data/climate.graph\") # local path"
     ],
     "language": "python",
     "metadata": {},
     "outputs": [
      {
       "output_type": "stream",
       "stream": "stdout",
       "text": [
        "path expanded to: /home/birderon/workspace/hiwi/data/climate.graph\n"
       ]
      }
     ],
     "prompt_number": 2
    },
    {
     "cell_type": "raw",
     "metadata": {},
     "source": [
      "Initialize and run the calculation of the area-weighted connectivity/centrality. Again, don't forget to adapt the paths to the coordinate files."
     ]
    },
    {
     "cell_type": "code",
     "collapsed": false,
     "input": [
      "awc = centrality.AreaWeightedCentrality(g, True)"
     ],
     "language": "python",
     "metadata": {},
     "outputs": [],
     "prompt_number": 3
    },
    {
     "cell_type": "code",
     "collapsed": false,
     "input": [
      "#awc.initCoordinates(\"/algoDaten/graphs/climate/climate.lat\",\"/algoDaten/graphs/climate/climate.lon\")  # parco/iti path\n",
      "awc.initCoordinates(\"../../../../data/climate.lat\",\"../../../../data/climate.lon\") # local path"
     ],
     "language": "python",
     "metadata": {},
     "outputs": [],
     "prompt_number": 4
    },
    {
     "cell_type": "code",
     "collapsed": false,
     "input": [
      "awc.run()"
     ],
     "language": "python",
     "metadata": {},
     "outputs": [],
     "prompt_number": 5
    },
    {
     "cell_type": "code",
     "collapsed": false,
     "input": [
      "ranking = awc.ranking()"
     ],
     "language": "python",
     "metadata": {},
     "outputs": [],
     "prompt_number": 6
    },
    {
     "cell_type": "raw",
     "metadata": {},
     "source": [
      "Scale values to the maximum value of the figure in the attached article. \n",
      "Scaling values and writing them to a file can be with \n",
      "    awc.writeValuesToCSV(\"../../../../data/climate_awc_scaled.csv\", 0.5)"
     ]
    },
    {
     "cell_type": "code",
     "collapsed": false,
     "input": [
      "#scale_f = .5 / ranking[0][1]\n",
      "#for i in range(0,len(ranking)):\n",
      "#    ranking[i] = (ranking[i][0],ranking[i][1]*scale_f)\n",
      "#(minval,maxval) = (999999999999,0)\n",
      "#for i in range(0,len(ranking)):\n",
      "#    minval = min(minval,ranking[i][1])\n",
      "#    maxval = max(maxval,ranking[i][1])\n",
      "#(minval,maxval,type(minval))"
     ],
     "language": "python",
     "metadata": {},
     "outputs": [],
     "prompt_number": 7
    },
    {
     "cell_type": "raw",
     "metadata": {},
     "source": [
      "NetworKit Community Detection on the climate graph with different algorithms."
     ]
    },
    {
     "cell_type": "code",
     "collapsed": false,
     "input": [
      "plp = community.detectCommunities(g, community.PLP(), True)"
     ],
     "language": "python",
     "metadata": {},
     "outputs": [
      {
       "output_type": "stream",
       "stream": "stdout",
       "text": [
        "PLP(updateThreshold=0) detected communities in 0.6374228000640869 [s]\n",
        "solution properties:\n",
        "-------------------  ------------\n",
        "# communities           2\n",
        "min community size   2518\n",
        "max community size   7994\n",
        "avg. community size  5256\n",
        "modularity              0.0776675\n",
        "-------------------  ------------"
       ]
      },
      {
       "output_type": "stream",
       "stream": "stdout",
       "text": [
        "\n"
       ]
      }
     ],
     "prompt_number": 8
    },
    {
     "cell_type": "code",
     "collapsed": false,
     "input": [
      "plm = community.detectCommunities(g, community.PLM(), True)"
     ],
     "language": "python",
     "metadata": {},
     "outputs": [
      {
       "output_type": "stream",
       "stream": "stdout",
       "text": [
        "PLM(balanced,refinement) detected communities in 2.454559326171875 [s]\n",
        "solution properties:\n",
        "-------------------  -----------\n",
        "# communities         147\n",
        "min community size      1\n",
        "max community size   4019\n",
        "avg. community size    71.5102\n",
        "modularity              0.246044\n",
        "-------------------  -----------"
       ]
      },
      {
       "output_type": "stream",
       "stream": "stdout",
       "text": [
        "\n"
       ]
      }
     ],
     "prompt_number": 9
    },
    {
     "cell_type": "code",
     "collapsed": false,
     "input": [
      "ensemble = community.EPPFactory().make(4)\n",
      "epp = community.detectCommunities(g, ensemble, True)"
     ],
     "language": "python",
     "metadata": {},
     "outputs": [
      {
       "output_type": "stream",
       "stream": "stdout",
       "text": [
        "b'EnsemblePreprocessing(base=PLP(updateThreshold=0),ensemble=4,final=PLM(balanced,))' detected communities in 2.1404953002929688 [s]\n",
        "solution properties:\n",
        "-------------------  ------------\n",
        "# communities           2\n",
        "min community size   2518\n",
        "max community size   7994\n",
        "avg. community size  5256\n",
        "modularity              0.0776675\n",
        "-------------------  ------------"
       ]
      },
      {
       "output_type": "stream",
       "stream": "stdout",
       "text": [
        "\n"
       ]
      }
     ],
     "prompt_number": 10
    },
    {
     "cell_type": "raw",
     "metadata": {},
     "source": [
      "Clustering Coefficients for the climate network."
     ]
    },
    {
     "cell_type": "code",
     "collapsed": false,
     "input": [
      "cc = properties.ClusteringCoefficient()\n",
      "(cc.approxAvgLocal(g,1000),cc.approxGlobal(g,1000))"
     ],
     "language": "python",
     "metadata": {},
     "outputs": [
      {
       "metadata": {},
       "output_type": "pyout",
       "prompt_number": 11,
       "text": [
        "(0.739, 0.892)"
       ]
      }
     ],
     "prompt_number": 11
    },
    {
     "cell_type": "raw",
     "metadata": {},
     "source": [
      "Write the different results to files"
     ]
    },
    {
     "cell_type": "code",
     "collapsed": false,
     "input": [
      "base_path = \"../../../../data/\"\n",
      "#base_path = \"/algoDaten/graphs/climate/\"\n",
      "awc.writeValuesToCSV(base_path+\"climate_awc.csv\")\n",
      "awc.writeValuesToCSV(base_path+\"climate_awc_scaled.csv\", 0.5)\n",
      "awc.writeClusteringToCSV(plp, base_path+\"climate_plp.csv\")\n",
      "awc.writeClusteringToCSV(plm, base_path+\"climate_plm.csv\")\n",
      "awc.writeClusteringToCSV(epp, base_path+\"climate_ensemble.csv\")"
     ],
     "language": "python",
     "metadata": {},
     "outputs": [],
     "prompt_number": 12
    },
    {
     "cell_type": "code",
     "collapsed": false,
     "input": [],
     "language": "python",
     "metadata": {},
     "outputs": []
    }
   ],
   "metadata": {}
  }
 ]
}